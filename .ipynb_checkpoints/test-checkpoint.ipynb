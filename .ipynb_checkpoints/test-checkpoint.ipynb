{
 "cells": [
  {
   "cell_type": "code",
   "execution_count": 1,
   "metadata": {},
   "outputs": [],
   "source": [
    "from tensortrade.data.stck import StockDataDownload\n",
    "from tensortrade.feed.core import Stream, DataFeed"
   ]
  },
  {
   "cell_type": "code",
   "execution_count": 3,
   "metadata": {},
   "outputs": [],
   "source": [
    "sdd = StockDataDownload()\n",
    "spy = sdd.fetch(ticker=\"SPY\", interval=\"1d\")"
   ]
  },
  {
   "cell_type": "code",
   "execution_count": 4,
   "metadata": {},
   "outputs": [
    {
     "name": "stdout",
     "output_type": "stream",
     "text": [
      "                  Open        High         Low       Close     Volume  \\\n",
      "Date                                                                    \n",
      "1993-01-29   25.645594   25.645594   25.518004   25.627367    1003200   \n",
      "1993-02-01   25.645572   25.809616   25.645572   25.809616     480500   \n",
      "1993-02-02   25.791389   25.882525   25.736708   25.864298     201300   \n",
      "1993-02-03   25.900752   26.155932   25.882525   26.137705     529400   \n",
      "1993-02-04   26.228843   26.301752   25.937209   26.247070     531500   \n",
      "...                ...         ...         ...         ...        ...   \n",
      "2022-03-07  431.549988  432.299988  419.359985  419.429993  137896600   \n",
      "2022-03-08  419.619995  427.209991  415.119995  416.250000  164772700   \n",
      "2022-03-09  425.140015  429.510010  422.820007  427.410004  116990800   \n",
      "2022-03-10  422.519989  426.429993  420.440002  425.480011   93698200   \n",
      "2022-03-11  428.119995  428.769989  423.000000  425.035004   50421142   \n",
      "\n",
      "            Dividends  Stock Splits  \n",
      "Date                                 \n",
      "1993-01-29        0.0             0  \n",
      "1993-02-01        0.0             0  \n",
      "1993-02-02        0.0             0  \n",
      "1993-02-03        0.0             0  \n",
      "1993-02-04        0.0             0  \n",
      "...               ...           ...  \n",
      "2022-03-07        0.0             0  \n",
      "2022-03-08        0.0             0  \n",
      "2022-03-09        0.0             0  \n",
      "2022-03-10        0.0             0  \n",
      "2022-03-11        0.0             0  \n",
      "\n",
      "[7333 rows x 7 columns]\n"
     ]
    }
   ],
   "source": [
    "print(spy)"
   ]
  },
  {
   "cell_type": "code",
   "execution_count": null,
   "metadata": {},
   "outputs": [],
   "source": [
    "Stream.source(list(bitfinex_btc['close'][-100:]), dtype=\"float\").rename(\"USD-BTC\"),"
   ]
  }
 ],
 "metadata": {
  "kernelspec": {
   "display_name": "Python 3",
   "language": "python",
   "name": "python3"
  },
  "language_info": {
   "codemirror_mode": {
    "name": "ipython",
    "version": 3
   },
   "file_extension": ".py",
   "mimetype": "text/x-python",
   "name": "python",
   "nbconvert_exporter": "python",
   "pygments_lexer": "ipython3",
   "version": "3.8.10"
  }
 },
 "nbformat": 4,
 "nbformat_minor": 4
}
