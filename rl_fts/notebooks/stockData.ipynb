{
 "cells": [
  {
   "cell_type": "code",
   "execution_count": 2,
   "metadata": {},
   "outputs": [
    {
     "ename": "SyntaxError",
     "evalue": "invalid syntax (<ipython-input-2-6203d898cdd5>, line 1)",
     "output_type": "error",
     "traceback": [
      "\u001b[0;36m  Input \u001b[0;32mIn [2]\u001b[0;36m\u001b[0m\n\u001b[0;31m    from ../tensdortradeExtension.data.stck import StockDataDownload\u001b[0m\n\u001b[0m           ^\u001b[0m\n\u001b[0;31mSyntaxError\u001b[0m\u001b[0;31m:\u001b[0m invalid syntax\n"
     ]
    }
   ],
   "source": [
    "from tensdortradeExtension.data.stck import StockDataDownload\n",
    "from tensortrade.feed.core import Stream, DataFeed\n",
    "from tensortrade.oms.exchanges import Exchange\n",
    "from tensortrade.oms.services.execution.simulated import execute_order\n",
    "from tensortrade.oms.wallets import Portfolio, Wallet\n",
    "from tensortrade.oms.instruments import USD"
   ]
  },
  {
   "cell_type": "code",
   "execution_count": null,
   "metadata": {},
   "outputs": [],
   "source": [
    "stock_data_download = StockDataDownload()\n",
    "spy_data = stock_data_download.fetch(ticker=\"SPY\", interval=\"1d\")"
   ]
  },
  {
   "cell_type": "code",
   "execution_count": null,
   "metadata": {},
   "outputs": [
    {
     "name": "stdout",
     "output_type": "stream",
     "text": [
      "                  Open        High         Low       Close     Volume  \\\n",
      "Date                                                                    \n",
      "1993-01-29   25.645575   25.645575   25.517985   25.627348    1003200   \n",
      "1993-02-01   25.645589   25.809633   25.645589   25.809633     480500   \n",
      "1993-02-02   25.791386   25.882521   25.736704   25.864294     201300   \n",
      "1993-02-03   25.900746   26.155926   25.882519   26.137699     529400   \n",
      "1993-02-04   26.228849   26.301757   25.937215   26.247076     531500   \n",
      "...                ...         ...         ...         ...        ...   \n",
      "2022-03-07  431.549988  432.299988  419.359985  419.429993  137896600   \n",
      "2022-03-08  419.619995  427.209991  415.119995  416.250000  164772700   \n",
      "2022-03-09  425.140015  429.510010  422.820007  427.410004  116990800   \n",
      "2022-03-10  422.519989  426.429993  420.440002  425.480011   93972700   \n",
      "2022-03-11  428.119995  428.769989  419.529999  420.070007   95529600   \n",
      "\n",
      "            Dividends  Stock Splits  \n",
      "Date                                 \n",
      "1993-01-29        0.0             0  \n",
      "1993-02-01        0.0             0  \n",
      "1993-02-02        0.0             0  \n",
      "1993-02-03        0.0             0  \n",
      "1993-02-04        0.0             0  \n",
      "...               ...           ...  \n",
      "2022-03-07        0.0             0  \n",
      "2022-03-08        0.0             0  \n",
      "2022-03-09        0.0             0  \n",
      "2022-03-10        0.0             0  \n",
      "2022-03-11        0.0             0  \n",
      "\n",
      "[7333 rows x 7 columns]\n"
     ]
    }
   ],
   "source": [
    "print(spy_data)"
   ]
  },
  {
   "cell_type": "code",
   "execution_count": null,
   "metadata": {},
   "outputs": [
    {
     "name": "stdout",
     "output_type": "stream",
     "text": [
      "<tensortrade.oms.exchanges.exchange.Exchange object at 0xffff6e8b72e0>\n"
     ]
    }
   ],
   "source": [
    "spy_exchange = Exchange(\"bitfinex\", service=execute_order)(\n",
    "  Stream.source(list(spy_data['Close'][-100:]), dtype=\"float\")\n",
    ")\n",
    "print(spy_exchange)\n"
   ]
  },
  {
   "cell_type": "code",
   "execution_count": null,
   "metadata": {},
   "outputs": [],
   "source": [
    "portfolio = Portfolio(USD, [\n",
    "    Wallet(spy_exchange, 0 * SPY),\n",
    "    Wallet(spy_exchange, 10000 * USD),\n",
    "])"
   ]
  }
 ],
 "metadata": {
  "kernelspec": {
   "display_name": "Python 3",
   "language": "python",
   "name": "python3"
  },
  "language_info": {
   "codemirror_mode": {
    "name": "ipython",
    "version": 3
   },
   "file_extension": ".py",
   "mimetype": "text/x-python",
   "name": "python",
   "nbconvert_exporter": "python",
   "pygments_lexer": "ipython3",
   "version": "3.8.10"
  }
 },
 "nbformat": 4,
 "nbformat_minor": 4
}
