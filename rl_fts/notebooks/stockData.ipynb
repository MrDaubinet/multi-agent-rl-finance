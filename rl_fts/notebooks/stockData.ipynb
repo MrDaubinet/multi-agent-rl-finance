{
 "cells": [
  {
   "cell_type": "code",
   "execution_count": 1,
   "metadata": {},
   "outputs": [],
   "source": [
    "from rl_fts.environments.stock.data import StockDataGenerator\n",
    "from tensortrade.feed.core import Stream, DataFeed\n",
    "from tensortrade.oms.exchanges import Exchange\n",
    "from tensortrade.oms.services.execution.simulated import execute_order\n",
    "from tensortrade.oms.wallets import Portfolio, Wallet\n",
    "from tensortrade.oms.instruments import USD\n",
    "from tensortrade.oms.instruments import Instrument"
   ]
  },
  {
   "cell_type": "code",
   "execution_count": 2,
   "metadata": {},
   "outputs": [],
   "source": [
    "# stock_data_download = StockDataDownload\n",
    "data_generator = StockDataGenerator(ticker=\"NFLX\", interval=\"1d\", start=\"2012-12-31\", end=\"2022-12-31\")"
   ]
  },
  {
   "cell_type": "code",
   "execution_count": 3,
   "metadata": {},
   "outputs": [
    {
     "name": "stdout",
     "output_type": "stream",
     "text": [
      "                  Open        High         Low       Close    Volume  \\\n",
      "Date                                                                   \n",
      "2012-12-31   12.768571   13.357143   12.715714   13.227143  18078900   \n",
      "2013-01-02   13.601429   13.687143   12.955714   13.144286  19431300   \n",
      "2013-01-03   13.138571   13.988571   13.075714   13.798571  27912500   \n",
      "2013-01-04   13.791429   13.958571   13.648571   13.711429  17761100   \n",
      "2013-01-07   13.770000   14.535714   13.731429   14.171429  45550400   \n",
      "...                ...         ...         ...         ...       ...   \n",
      "2017-12-22  188.330002  190.949997  186.800003  189.940002   3878900   \n",
      "2017-12-26  189.779999  189.940002  186.399994  187.759995   3045700   \n",
      "2017-12-27  187.800003  188.100006  185.220001  186.240005   4002100   \n",
      "2017-12-28  187.179993  194.490005  186.850006  192.710007  10107400   \n",
      "2017-12-29  192.509995  193.949997  191.220001  191.960007   5187600   \n",
      "\n",
      "            Dividends  Stock Splits  \n",
      "Date                                 \n",
      "2012-12-31          0           0.0  \n",
      "2013-01-02          0           0.0  \n",
      "2013-01-03          0           0.0  \n",
      "2013-01-04          0           0.0  \n",
      "2013-01-07          0           0.0  \n",
      "...               ...           ...  \n",
      "2017-12-22          0           0.0  \n",
      "2017-12-26          0           0.0  \n",
      "2017-12-27          0           0.0  \n",
      "2017-12-28          0           0.0  \n",
      "2017-12-29          0           0.0  \n",
      "\n",
      "[1260 rows x 7 columns]\n"
     ]
    }
   ],
   "source": [
    "data_train = data_generator.train()\n",
    "print(data_train)"
   ]
  },
  {
   "cell_type": "code",
   "execution_count": 4,
   "metadata": {},
   "outputs": [
    {
     "name": "stdout",
     "output_type": "stream",
     "text": [
      "                  Open        High         Low       Close    Volume  \\\n",
      "Date                                                                   \n",
      "2018-01-02  196.100006  201.649994  195.419998  201.070007  10966900   \n",
      "2018-01-03  202.050003  206.210007  201.500000  205.050003   8591400   \n",
      "2018-01-04  206.199997  207.050003  204.000000  205.630005   6029600   \n",
      "2018-01-05  207.250000  210.020004  205.589996  209.990005   7033200   \n",
      "2018-01-08  210.020004  212.500000  208.440002  212.050003   5580200   \n",
      "...                ...         ...         ...         ...       ...   \n",
      "2020-12-24  515.119995  519.349976  512.210022  513.969971   1144000   \n",
      "2020-12-28  516.429993  523.659973  507.130005  519.119995   2891900   \n",
      "2020-12-29  519.900024  536.549988  515.479980  530.869995   4022400   \n",
      "2020-12-30  530.130005  533.260010  523.690002  524.590027   1876300   \n",
      "2020-12-31  525.530029  545.500000  523.150024  540.729980   5392300   \n",
      "\n",
      "            Dividends  Stock Splits  \n",
      "Date                                 \n",
      "2018-01-02          0           0.0  \n",
      "2018-01-03          0           0.0  \n",
      "2018-01-04          0           0.0  \n",
      "2018-01-05          0           0.0  \n",
      "2018-01-08          0           0.0  \n",
      "...               ...           ...  \n",
      "2020-12-24          0           0.0  \n",
      "2020-12-28          0           0.0  \n",
      "2020-12-29          0           0.0  \n",
      "2020-12-30          0           0.0  \n",
      "2020-12-31          0           0.0  \n",
      "\n",
      "[756 rows x 7 columns]\n"
     ]
    }
   ],
   "source": [
    "data_validate = data_generator.validate()\n",
    "print(data_validate)"
   ]
  },
  {
   "cell_type": "code",
   "execution_count": 5,
   "metadata": {},
   "outputs": [
    {
     "name": "stdout",
     "output_type": "stream",
     "text": [
      "                  Open        High         Low       Close   Volume  \\\n",
      "Date                                                                  \n",
      "2021-01-04  539.000000  540.799988  515.090027  522.859985  4444400   \n",
      "2021-01-05  521.549988  526.780029  515.890015  520.799988  3133900   \n",
      "2021-01-06  511.970001  513.099976  499.500000  500.489990  5346200   \n",
      "2021-01-07  508.279999  516.440002  506.420013  508.890015  3686400   \n",
      "2021-01-08  511.309998  513.239990  504.510010  510.399994  2973900   \n",
      "...                ...         ...         ...         ...      ...   \n",
      "2022-12-23  296.179993  298.459991  291.910004  294.959991  4251100   \n",
      "2022-12-27  293.190002  293.570007  282.130005  284.170013  5778100   \n",
      "2022-12-28  281.920013  285.190002  273.410004  276.880005  5964400   \n",
      "2022-12-29  283.179993  295.500000  281.010010  291.119995  9588500   \n",
      "2022-12-30  285.529999  295.010010  283.220001  294.880005  7557400   \n",
      "\n",
      "            Dividends  Stock Splits  \n",
      "Date                                 \n",
      "2021-01-04          0           0.0  \n",
      "2021-01-05          0           0.0  \n",
      "2021-01-06          0           0.0  \n",
      "2021-01-07          0           0.0  \n",
      "2021-01-08          0           0.0  \n",
      "...               ...           ...  \n",
      "2022-12-23          0           0.0  \n",
      "2022-12-27          0           0.0  \n",
      "2022-12-28          0           0.0  \n",
      "2022-12-29          0           0.0  \n",
      "2022-12-30          0           0.0  \n",
      "\n",
      "[503 rows x 7 columns]\n"
     ]
    }
   ],
   "source": [
    "data_test = data_generator.test()\n",
    "print(data_test)"
   ]
  },
  {
   "cell_type": "code",
   "execution_count": 6,
   "metadata": {},
   "outputs": [
    {
     "name": "stdout",
     "output_type": "stream",
     "text": [
      "{'spy_exchange:/stream': 13.227143287658691}\n",
      "{'spy_exchange:/stream': 13.144286155700684}\n"
     ]
    }
   ],
   "source": [
    "price_stream = Stream.source(list(data_train['Close']), dtype=\"float\")\n",
    "spy_exchange = Exchange(\"spy_exchange\", service=execute_order)(\n",
    "  price_stream\n",
    ")\n",
    "feed = DataFeed([price_stream])\n",
    "print(feed.next())\n",
    "print(feed.next())\n"
   ]
  },
  {
   "cell_type": "code",
   "execution_count": 7,
   "metadata": {},
   "outputs": [],
   "source": [
    "USD = Instrument(\"USD\", 8, \"U.S. Dollar\")\n",
    "NFLX = Instrument(\"NFLX\", 8, \"TensorTrade Coin\")\n",
    "cash = Wallet(spy_exchange, 100 * USD)\n",
    "asset = Wallet(spy_exchange, 0 * NFLX)\n",
    "# creat portfolio\n",
    "portfolio = Portfolio(USD, [\n",
    "    cash,\n",
    "    asset\n",
    "])"
   ]
  }
 ],
 "metadata": {
  "kernelspec": {
   "display_name": "Python 3.8.13 ('ray-tensortrade')",
   "language": "python",
   "name": "python3"
  },
  "language_info": {
   "codemirror_mode": {
    "name": "ipython",
    "version": 3
   },
   "file_extension": ".py",
   "mimetype": "text/x-python",
   "name": "python",
   "nbconvert_exporter": "python",
   "pygments_lexer": "ipython3",
   "version": "3.8.13"
  },
  "vscode": {
   "interpreter": {
    "hash": "4fb877d9290f387ef139b19324eb56e9bfae105d7e97d503f44105c5c248d997"
   }
  }
 },
 "nbformat": 4,
 "nbformat_minor": 4
}
